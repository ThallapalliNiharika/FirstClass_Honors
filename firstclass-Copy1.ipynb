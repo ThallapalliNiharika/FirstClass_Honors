{
 "cells": [
  {
   "cell_type": "code",
   "execution_count": 2,
   "id": "591071aa",
   "metadata": {},
   "outputs": [],
   "source": [
    "name = \"Niha\""
   ]
  },
  {
   "cell_type": "code",
   "execution_count": 3,
   "id": "23a59af1",
   "metadata": {},
   "outputs": [
    {
     "data": {
      "text/plain": [
       "'Niha'"
      ]
     },
     "execution_count": 3,
     "metadata": {},
     "output_type": "execute_result"
    }
   ],
   "source": [
    "name"
   ]
  },
  {
   "cell_type": "code",
   "execution_count": 1,
   "id": "10396849",
   "metadata": {},
   "outputs": [],
   "source": [
    "a = 36\n"
   ]
  },
  {
   "cell_type": "code",
   "execution_count": 2,
   "id": "0c913e2f",
   "metadata": {},
   "outputs": [
    {
     "data": {
      "text/plain": [
       "36"
      ]
     },
     "execution_count": 2,
     "metadata": {},
     "output_type": "execute_result"
    }
   ],
   "source": [
    "a"
   ]
  },
  {
   "cell_type": "code",
   "execution_count": 1,
   "id": "a0b39b9a",
   "metadata": {},
   "outputs": [],
   "source": [
    "n = 6 + 8j\n"
   ]
  },
  {
   "cell_type": "code",
   "execution_count": 2,
   "id": "3e6be518",
   "metadata": {},
   "outputs": [
    {
     "data": {
      "text/plain": [
       "(12+16j)"
      ]
     },
     "execution_count": 2,
     "metadata": {},
     "output_type": "execute_result"
    }
   ],
   "source": [
    "n + n"
   ]
  },
  {
   "cell_type": "code",
   "execution_count": 3,
   "id": "fd80b0dd",
   "metadata": {},
   "outputs": [
    {
     "data": {
      "text/plain": [
       "(-28+96j)"
      ]
     },
     "execution_count": 3,
     "metadata": {},
     "output_type": "execute_result"
    }
   ],
   "source": [
    "n * n"
   ]
  },
  {
   "cell_type": "code",
   "execution_count": 4,
   "id": "e534bcb5",
   "metadata": {},
   "outputs": [
    {
     "data": {
      "text/plain": [
       "(1+0j)"
      ]
     },
     "execution_count": 4,
     "metadata": {},
     "output_type": "execute_result"
    }
   ],
   "source": [
    "n / n"
   ]
  },
  {
   "cell_type": "code",
   "execution_count": 5,
   "id": "6635c0cf",
   "metadata": {},
   "outputs": [
    {
     "data": {
      "text/plain": [
       "0"
      ]
     },
     "execution_count": 5,
     "metadata": {},
     "output_type": "execute_result"
    }
   ],
   "source": [
    "True - True\n"
   ]
  },
  {
   "cell_type": "code",
   "execution_count": 6,
   "id": "f4566e6f",
   "metadata": {},
   "outputs": [
    {
     "data": {
      "text/plain": [
       "1"
      ]
     },
     "execution_count": 6,
     "metadata": {},
     "output_type": "execute_result"
    }
   ],
   "source": [
    "True - False"
   ]
  },
  {
   "cell_type": "code",
   "execution_count": 7,
   "id": "88998721",
   "metadata": {},
   "outputs": [
    {
     "data": {
      "text/plain": [
       "-1"
      ]
     },
     "execution_count": 7,
     "metadata": {},
     "output_type": "execute_result"
    }
   ],
   "source": [
    "False - True"
   ]
  },
  {
   "cell_type": "code",
   "execution_count": 8,
   "id": "1179725b",
   "metadata": {},
   "outputs": [
    {
     "data": {
      "text/plain": [
       "0.0"
      ]
     },
     "execution_count": 8,
     "metadata": {},
     "output_type": "execute_result"
    }
   ],
   "source": [
    "False/True"
   ]
  },
  {
   "cell_type": "code",
   "execution_count": 9,
   "id": "bac3b1bb",
   "metadata": {},
   "outputs": [
    {
     "ename": "ZeroDivisionError",
     "evalue": "division by zero",
     "output_type": "error",
     "traceback": [
      "\u001b[1;31m---------------------------------------------------------------------------\u001b[0m",
      "\u001b[1;31mZeroDivisionError\u001b[0m                         Traceback (most recent call last)",
      "Input \u001b[1;32mIn [9]\u001b[0m, in \u001b[0;36m<cell line: 1>\u001b[1;34m()\u001b[0m\n\u001b[1;32m----> 1\u001b[0m \u001b[38;5;28;43;01mTrue\u001b[39;49;00m\u001b[38;5;241;43m/\u001b[39;49m\u001b[38;5;28;43;01mFalse\u001b[39;49;00m\n",
      "\u001b[1;31mZeroDivisionError\u001b[0m: division by zero"
     ]
    }
   ],
   "source": [
    "True/False\n"
   ]
  },
  {
   "cell_type": "code",
   "execution_count": 11,
   "id": "b696fcf5",
   "metadata": {},
   "outputs": [],
   "source": [
    "name = \"Niharika\""
   ]
  },
  {
   "cell_type": "code",
   "execution_count": 12,
   "id": "117cb9ef",
   "metadata": {},
   "outputs": [
    {
     "data": {
      "text/plain": [
       "'Niha'"
      ]
     },
     "execution_count": 12,
     "metadata": {},
     "output_type": "execute_result"
    }
   ],
   "source": [
    "name[0:4]"
   ]
  },
  {
   "cell_type": "code",
   "execution_count": 13,
   "id": "fab51378",
   "metadata": {},
   "outputs": [
    {
     "data": {
      "text/plain": [
       "'harik'"
      ]
     },
     "execution_count": 13,
     "metadata": {},
     "output_type": "execute_result"
    }
   ],
   "source": [
    "name[2:7]"
   ]
  },
  {
   "cell_type": "code",
   "execution_count": 18,
   "id": "bda9df4c",
   "metadata": {},
   "outputs": [],
   "source": [
    "sem = \" We love coding\""
   ]
  },
  {
   "cell_type": "code",
   "execution_count": 19,
   "id": "d1ce7b1d",
   "metadata": {},
   "outputs": [
    {
     "data": {
      "text/plain": [
       "' We love coding'"
      ]
     },
     "execution_count": 19,
     "metadata": {},
     "output_type": "execute_result"
    }
   ],
   "source": [
    "sem"
   ]
  },
  {
   "cell_type": "code",
   "execution_count": 20,
   "id": "e2ba76a8",
   "metadata": {},
   "outputs": [
    {
     "data": {
      "text/plain": [
       "'love coding'"
      ]
     },
     "execution_count": 20,
     "metadata": {},
     "output_type": "execute_result"
    }
   ],
   "source": [
    "sem[4:90]"
   ]
  },
  {
   "cell_type": "code",
   "execution_count": 29,
   "id": "7b7527b6",
   "metadata": {},
   "outputs": [
    {
     "data": {
      "text/plain": [
       "'l i'"
      ]
     },
     "execution_count": 29,
     "metadata": {},
     "output_type": "execute_result"
    }
   ],
   "source": [
    "sem[4::4]"
   ]
  },
  {
   "cell_type": "code",
   "execution_count": null,
   "id": "359593a2",
   "metadata": {},
   "outputs": [],
   "source": []
  }
 ],
 "metadata": {
  "kernelspec": {
   "display_name": "Python 3 (ipykernel)",
   "language": "python",
   "name": "python3"
  },
  "language_info": {
   "codemirror_mode": {
    "name": "ipython",
    "version": 3
   },
   "file_extension": ".py",
   "mimetype": "text/x-python",
   "name": "python",
   "nbconvert_exporter": "python",
   "pygments_lexer": "ipython3",
   "version": "3.10.1"
  }
 },
 "nbformat": 4,
 "nbformat_minor": 5
}
